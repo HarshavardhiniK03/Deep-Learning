{
  "nbformat": 4,
  "nbformat_minor": 0,
  "metadata": {
    "colab": {
      "provenance": [],
      "authorship_tag": "ABX9TyMdhCUJlbA5PelngxqbBAoC",
      "include_colab_link": true
    },
    "kernelspec": {
      "name": "python3",
      "display_name": "Python 3"
    },
    "language_info": {
      "name": "python"
    }
  },
  "cells": [
    {
      "cell_type": "markdown",
      "metadata": {
        "id": "view-in-github",
        "colab_type": "text"
      },
      "source": [
        "<a href=\"https://colab.research.google.com/github/HarshavardhiniK03/Deep-Learning/blob/main/Questiions.ipynb\" target=\"_parent\"><img src=\"https://colab.research.google.com/assets/colab-badge.svg\" alt=\"Open In Colab\"/></a>"
      ]
    },
    {
      "cell_type": "code",
      "execution_count": null,
      "metadata": {
        "id": "eGpiTHk3Umsm"
      },
      "outputs": [],
      "source": []
    },
    {
      "cell_type": "markdown",
      "source": [
        "1 A. Matrix Multiplication (2 Credits)\n",
        "\n",
        "B. Eigen Decomposition (2 Credits)\n",
        "\n",
        "C. Singular Value Decomposition (SVD) (2 Credits)\n",
        "\n",
        "D. Determinant Calculation (2 Credits)\n",
        "\n",
        "E. Norm Calculation (2 Credits)\n",
        "\n",
        "Part II : DEEP LEARNING APPLICATIONS IN PYTHON\n",
        "\n",
        "2 Image Classification\n",
        "\n",
        "a. Basic Image Classification using CIFAR-10 Dataset ( 6 Credits)\n",
        "\n",
        "b. Handwritten Digit Recognition using CNNs (MNIST Dataset) ( +2 Credits)\n",
        "\n",
        "c. Fine-Tuning Pre-trained Models for Cat vs. Dog Classification ( +2 Credits)\n",
        "\n",
        "3 Object Detection\n",
        "\n",
        "a. Basic Object Detection using OpenCV and Haar Cascades ( 6 Credits)\n",
        "\n",
        "b. Object Detection with YOLO (You Only Look Once) ( +2 Credits)\n",
        "\n",
        "c. Mask R-CNN for Instance Segmentation ( +2 Credits)\n",
        "\n",
        "4 Object Classification\n",
        "\n",
        "a. Basic Object Classification using Pre-trained VGG16 Model ( 6 Credits)\n",
        "\n",
        "b. ImageNet Classification with Deep Residual Networks (ResNet) ( +2 Credits)\n",
        "\n",
        "c. Classifying Species of Flowers using Transfer Learning ( +2 Credits)\n",
        "\n",
        "5 Text Classification\n",
        "\n",
        "a. Basic Text Classification using Naive Bayes and Bag-of-Words ( 6 Credits)\n",
        "\n",
        "b. News Article Categorization using BERT ( +2 Credits)\n",
        "\n",
        "c. Spam Detection in Email using LSTM Networks ( +2 Credits)\n",
        "\n",
        "6 Sentiment Analysis\n",
        "\n",
        "a. Basic Sentiment Analysis using Logistic Regression ( 6 Credits)\n",
        "\n",
        "b. Twitter Sentiment Analysis using LSTM and GloVe Embeddings ( +2 Credits)\n",
        "\n",
        "c. Movie Reviews Sentiment Classification with BERT ( +2 Credits)\n",
        "\n",
        "7 Text Summarization\n",
        "\n",
        "a. Basic Text Summarization using TF-IDF and Cosine Similarity ( 6 Credits)\n",
        "\n",
        "b. Abstractive Text Summarization with Transformers ( +2 Credits)\n",
        "\n",
        "c. Extractive Summarization using BERT and SpaCy ( +2 Credits)\n",
        "\n",
        "8 Text Entailment\n",
        "\n",
        "a. Basic Text Entailment using Simple Rule-Based Methods ( 6 Credits)\n",
        "\n",
        "b. Natural Language Inference with BERT ( +2 Credits)\n",
        "\n",
        "c. Sentence Pair Classification using Siamese Networks ( +2 Credits)\n",
        "\n",
        "9 Word and Sentence Embedding\n",
        "\n",
        "a. Basic Word Embeddings with TF-IDF ( 6 Credits)\n",
        "\n",
        "b. Generating Word Embeddings using Word2Vec and GloVe ( +2 Credits)\n",
        "\n",
        "c. Sentence Embeddings with Universal Sentence Encoder (10 Credits)\n",
        "\n",
        "10 Question Answering\n",
        "\n",
        "a. Basic Q&A System using Keyword Matching ( 6 Credits)\n",
        "\n",
        "b. Building a Q&A System with BERT ( +2 Credits)\n",
        "\n",
        "c. Question Answering on SQuAD Dataset using Transformers ( +2 Credits)\n",
        "\n",
        "11 Machine Translation\n",
        "\n",
        "a. Basic Machine Translation using Rule-Based Methods ( 6 Credits)\n",
        "\n",
        "b. English to French Translation using Seq2Seq with Attention ( +2 Credits)\n",
        "\n",
        "c. Neural Machine Translation with Transformers (English to German) ( +2 Credits)\n",
        "\n",
        "12 Dialogue System\n",
        "\n",
        "a. Basic Rule-Based Chatbot using Python NLTK ( 6 Credits)\n",
        "\n",
        "b. Building a Chatbot using Seq2Seq Models ( +2 Credits)\n",
        "\n",
        "c. Conversational AI with Transformer-based Models ( +2 Credits)\n",
        "\n",
        "https://www.kaggle.com/datasets/ashfakyeafi/spam-email-classification\n",
        "\n",
        "https://www.kaggle.com/datasets/mahmudulhaqueshawon/catcat\n",
        "\n",
        "https://www.kaggle.com/datasets/utkarshsaxenadn/flower-classification-5-classes-roselilyetc\n",
        "\n",
        "https://www.kaggle.com/datasets/mdismielhossenabir/sentiment-analysis\n",
        "\n",
        "https://www.kaggle.com/datasets/timilsinabimal/newsarticlecategories\n",
        "\n",
        "https://www.kaggle.com/datasets/lakshmi25npathi/imdb-dataset-of-50k-movie-reviews"
      ],
      "metadata": {
        "id": "nw71P__NUnsh"
      }
    },
    {
      "cell_type": "code",
      "source": [],
      "metadata": {
        "id": "QrXyApAQUqG-"
      },
      "execution_count": null,
      "outputs": []
    }
  ]
}