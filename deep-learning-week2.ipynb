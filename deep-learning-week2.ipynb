{
 "cells": [
  {
   "cell_type": "markdown",
   "metadata": {},
   "source": [
    "**BASIC IMAGE CLASSIFICATION USING CIFAR-10 DATASET**"
   ]
  },
  {
   "cell_type": "code",
   "execution_count": 1,
   "metadata": {
    "_cell_guid": "b1076dfc-b9ad-4769-8c92-a6c4dae69d19",
    "_uuid": "8f2839f25d086af736a60e9eeb907d3b93b6e0e5",
    "execution": {
     "iopub.execute_input": "2024-07-29T06:23:19.330285Z",
     "iopub.status.busy": "2024-07-29T06:23:19.329870Z",
     "iopub.status.idle": "2024-07-29T06:23:19.335662Z",
     "shell.execute_reply": "2024-07-29T06:23:19.334224Z",
     "shell.execute_reply.started": "2024-07-29T06:23:19.330254Z"
    }
   },
   "outputs": [
    {
     "ename": "ModuleNotFoundError",
     "evalue": "No module named 'tensorflow'",
     "output_type": "error",
     "traceback": [
      "\u001b[1;31m---------------------------------------------------------------------------\u001b[0m",
      "\u001b[1;31mModuleNotFoundError\u001b[0m                       Traceback (most recent call last)",
      "\u001b[1;32m<ipython-input-1-28ea6f9170ad>\u001b[0m in \u001b[0;36m<module>\u001b[1;34m\u001b[0m\n\u001b[1;32m----> 1\u001b[1;33m \u001b[1;32mimport\u001b[0m \u001b[0mtensorflow\u001b[0m \u001b[1;32mas\u001b[0m \u001b[0mtf\u001b[0m\u001b[1;33m\u001b[0m\u001b[1;33m\u001b[0m\u001b[0m\n\u001b[0m\u001b[0;32m      2\u001b[0m \u001b[1;32mfrom\u001b[0m \u001b[0mtensorflow\u001b[0m\u001b[1;33m.\u001b[0m\u001b[0mkeras\u001b[0m \u001b[1;32mimport\u001b[0m \u001b[0mdatasets\u001b[0m\u001b[1;33m,\u001b[0m \u001b[0mlayers\u001b[0m\u001b[1;33m,\u001b[0m \u001b[0mmodels\u001b[0m\u001b[1;33m\u001b[0m\u001b[1;33m\u001b[0m\u001b[0m\n\u001b[0;32m      3\u001b[0m \u001b[1;32mimport\u001b[0m \u001b[0mmatplotlib\u001b[0m\u001b[1;33m.\u001b[0m\u001b[0mpyplot\u001b[0m \u001b[1;32mas\u001b[0m \u001b[0mplt\u001b[0m\u001b[1;33m\u001b[0m\u001b[1;33m\u001b[0m\u001b[0m\n",
      "\u001b[1;31mModuleNotFoundError\u001b[0m: No module named 'tensorflow'"
     ]
    }
   ],
   "source": [
    "import tensorflow as tf\n",
    "from tensorflow.keras import datasets, layers, models\n",
    "import matplotlib.pyplot as plt\n"
   ]
  },
  {
   "cell_type": "code",
   "execution_count": null,
   "metadata": {
    "execution": {
     "iopub.execute_input": "2024-07-29T06:23:19.338527Z",
     "iopub.status.busy": "2024-07-29T06:23:19.338094Z",
     "iopub.status.idle": "2024-07-29T06:23:20.802815Z",
     "shell.execute_reply": "2024-07-29T06:23:20.801650Z",
     "shell.execute_reply.started": "2024-07-29T06:23:19.338488Z"
    }
   },
   "outputs": [],
   "source": [
    "# Load CIFAR-10 dataset\n",
    "(train_images, train_labels), (test_images, test_labels) = datasets.cifar10.load_data()\n",
    "\n",
    "# Normalize pixel values to be between 0 and 1\n",
    "train_images, test_images = train_images / 255.0, test_images / 255.0\n"
   ]
  },
  {
   "cell_type": "code",
   "execution_count": null,
   "metadata": {
    "execution": {
     "iopub.execute_input": "2024-07-29T06:23:20.804349Z",
     "iopub.status.busy": "2024-07-29T06:23:20.804012Z",
     "iopub.status.idle": "2024-07-29T06:23:22.228681Z",
     "shell.execute_reply": "2024-07-29T06:23:22.227486Z",
     "shell.execute_reply.started": "2024-07-29T06:23:20.804321Z"
    }
   },
   "outputs": [],
   "source": [
    "class_names = ['airplane', 'automobile', 'bird', 'cat', 'deer', 'dog', 'frog', 'horse', 'ship', 'truck']\n",
    "\n",
    "# Display the first 25 images from the training set\n",
    "plt.figure(figsize=(10,10))\n",
    "for i in range(25):\n",
    "    plt.subplot(5, 5, i+1)\n",
    "    plt.xticks([])\n",
    "    plt.yticks([])\n",
    "    plt.grid(False)\n",
    "    plt.imshow(train_images[i])\n",
    "    plt.xlabel(class_names[train_labels[i][0]])\n",
    "plt.show()\n"
   ]
  },
  {
   "cell_type": "code",
   "execution_count": null,
   "metadata": {
    "execution": {
     "iopub.execute_input": "2024-07-29T06:23:33.125353Z",
     "iopub.status.busy": "2024-07-29T06:23:33.124944Z",
     "iopub.status.idle": "2024-07-29T06:23:33.179632Z",
     "shell.execute_reply": "2024-07-29T06:23:33.178671Z",
     "shell.execute_reply.started": "2024-07-29T06:23:33.125320Z"
    }
   },
   "outputs": [],
   "source": [
    "model = models.Sequential([\n",
    "    layers.Conv2D(32, (3, 3), activation='relu', input_shape=(32, 32, 3)),\n",
    "    layers.MaxPooling2D((2, 2)),\n",
    "    layers.Conv2D(64, (3, 3), activation='relu'),\n",
    "    layers.MaxPooling2D((2, 2)),\n",
    "    layers.Conv2D(64, (3, 3), activation='relu'),\n",
    "    layers.Flatten(),\n",
    "    layers.Dense(64, activation='relu'),\n",
    "    layers.Dense(10)\n",
    "])\n"
   ]
  },
  {
   "cell_type": "code",
   "execution_count": null,
   "metadata": {
    "execution": {
     "iopub.execute_input": "2024-07-29T06:23:53.357386Z",
     "iopub.status.busy": "2024-07-29T06:23:53.356224Z",
     "iopub.status.idle": "2024-07-29T06:23:53.375383Z",
     "shell.execute_reply": "2024-07-29T06:23:53.374222Z",
     "shell.execute_reply.started": "2024-07-29T06:23:53.357340Z"
    }
   },
   "outputs": [],
   "source": [
    "model.compile(optimizer='adam',\n",
    "              loss=tf.keras.losses.SparseCategoricalCrossentropy(from_logits=True),\n",
    "              metrics=['accuracy'])\n"
   ]
  },
  {
   "cell_type": "code",
   "execution_count": null,
   "metadata": {
    "execution": {
     "iopub.execute_input": "2024-07-29T06:24:03.925942Z",
     "iopub.status.busy": "2024-07-29T06:24:03.925490Z",
     "iopub.status.idle": "2024-07-29T06:29:41.063684Z",
     "shell.execute_reply": "2024-07-29T06:29:41.062443Z",
     "shell.execute_reply.started": "2024-07-29T06:24:03.925911Z"
    }
   },
   "outputs": [],
   "source": [
    "history = model.fit(train_images, train_labels, epochs=10,\n",
    "                    validation_data=(test_images, test_labels))\n"
   ]
  },
  {
   "cell_type": "code",
   "execution_count": null,
   "metadata": {
    "execution": {
     "iopub.execute_input": "2024-07-29T06:29:54.630910Z",
     "iopub.status.busy": "2024-07-29T06:29:54.630409Z",
     "iopub.status.idle": "2024-07-29T06:29:57.171972Z",
     "shell.execute_reply": "2024-07-29T06:29:57.170692Z",
     "shell.execute_reply.started": "2024-07-29T06:29:54.630871Z"
    }
   },
   "outputs": [],
   "source": [
    "test_loss, test_acc = model.evaluate(test_images, test_labels, verbose=2)\n",
    "print(f'Test accuracy: {test_acc}')\n"
   ]
  },
  {
   "cell_type": "code",
   "execution_count": null,
   "metadata": {
    "execution": {
     "iopub.execute_input": "2024-07-29T06:30:02.782960Z",
     "iopub.status.busy": "2024-07-29T06:30:02.782511Z",
     "iopub.status.idle": "2024-07-29T06:30:03.016022Z",
     "shell.execute_reply": "2024-07-29T06:30:03.014722Z",
     "shell.execute_reply.started": "2024-07-29T06:30:02.782929Z"
    }
   },
   "outputs": [],
   "source": [
    "plt.plot(history.history['accuracy'], label='accuracy')\n",
    "plt.plot(history.history['val_accuracy'], label = 'val_accuracy')\n",
    "plt.xlabel('Epoch')\n",
    "plt.ylabel('Accuracy')\n",
    "plt.ylim([0, 1])\n",
    "plt.legend(loc='lower right')\n",
    "plt.show()\n"
   ]
  },
  {
   "cell_type": "markdown",
   "metadata": {},
   "source": [
    "**HANDWRITTEN DIGIT RECOGNITION USING CNNS (MNIST DATASET)**"
   ]
  },
  {
   "cell_type": "code",
   "execution_count": null,
   "metadata": {
    "execution": {
     "iopub.execute_input": "2024-07-29T06:33:59.496255Z",
     "iopub.status.busy": "2024-07-29T06:33:59.495353Z",
     "iopub.status.idle": "2024-07-29T06:33:59.501506Z",
     "shell.execute_reply": "2024-07-29T06:33:59.500332Z",
     "shell.execute_reply.started": "2024-07-29T06:33:59.496212Z"
    }
   },
   "outputs": [],
   "source": [
    "import tensorflow as tf\n",
    "from tensorflow.keras import datasets, layers, models\n",
    "import matplotlib.pyplot as plt\n"
   ]
  },
  {
   "cell_type": "code",
   "execution_count": null,
   "metadata": {
    "execution": {
     "iopub.execute_input": "2024-07-29T06:34:08.097514Z",
     "iopub.status.busy": "2024-07-29T06:34:08.096507Z",
     "iopub.status.idle": "2024-07-29T06:34:10.636247Z",
     "shell.execute_reply": "2024-07-29T06:34:10.635145Z",
     "shell.execute_reply.started": "2024-07-29T06:34:08.097474Z"
    }
   },
   "outputs": [],
   "source": [
    "# Load MNIST dataset\n",
    "(train_images, train_labels), (test_images, test_labels) = datasets.mnist.load_data()\n",
    "\n",
    "# Normalize pixel values to be between 0 and 1\n",
    "train_images, test_images = train_images / 255.0, test_images / 255.0\n",
    "\n",
    "# Reshape data to fit the model\n",
    "train_images = train_images.reshape((train_images.shape[0], 28, 28, 1))\n",
    "test_images = test_images.reshape((test_images.shape[0], 28, 28, 1))\n"
   ]
  },
  {
   "cell_type": "code",
   "execution_count": null,
   "metadata": {
    "execution": {
     "iopub.execute_input": "2024-07-29T06:35:25.162186Z",
     "iopub.status.busy": "2024-07-29T06:35:25.161740Z",
     "iopub.status.idle": "2024-07-29T06:35:25.218272Z",
     "shell.execute_reply": "2024-07-29T06:35:25.216971Z",
     "shell.execute_reply.started": "2024-07-29T06:35:25.162153Z"
    }
   },
   "outputs": [],
   "source": [
    "model = models.Sequential([\n",
    "    layers.Conv2D(32, (3, 3), activation='relu', input_shape=(28, 28, 1)),\n",
    "    layers.MaxPooling2D((2, 2)),\n",
    "    layers.Conv2D(64, (3, 3), activation='relu'),\n",
    "    layers.MaxPooling2D((2, 2)),\n",
    "    layers.Conv2D(64, (3, 3), activation='relu'),\n",
    "    layers.Flatten(),\n",
    "    layers.Dense(64, activation='relu'),\n",
    "    layers.Dense(10, activation='softmax')\n",
    "])\n"
   ]
  },
  {
   "cell_type": "code",
   "execution_count": null,
   "metadata": {
    "execution": {
     "iopub.execute_input": "2024-07-29T06:35:31.488708Z",
     "iopub.status.busy": "2024-07-29T06:35:31.488210Z",
     "iopub.status.idle": "2024-07-29T06:35:31.500756Z",
     "shell.execute_reply": "2024-07-29T06:35:31.499624Z",
     "shell.execute_reply.started": "2024-07-29T06:35:31.488669Z"
    }
   },
   "outputs": [],
   "source": [
    "model.compile(optimizer='adam',\n",
    "              loss='sparse_categorical_crossentropy',\n",
    "              metrics=['accuracy'])\n"
   ]
  },
  {
   "cell_type": "code",
   "execution_count": null,
   "metadata": {
    "execution": {
     "iopub.execute_input": "2024-07-29T06:35:36.273372Z",
     "iopub.status.busy": "2024-07-29T06:35:36.272919Z",
     "iopub.status.idle": "2024-07-29T06:38:15.836913Z",
     "shell.execute_reply": "2024-07-29T06:38:15.835621Z",
     "shell.execute_reply.started": "2024-07-29T06:35:36.273321Z"
    }
   },
   "outputs": [],
   "source": [
    "history = model.fit(train_images, train_labels, epochs=5,\n",
    "                    validation_data=(test_images, test_labels))\n"
   ]
  },
  {
   "cell_type": "code",
   "execution_count": null,
   "metadata": {
    "execution": {
     "iopub.execute_input": "2024-07-29T06:38:50.785404Z",
     "iopub.status.busy": "2024-07-29T06:38:50.784961Z",
     "iopub.status.idle": "2024-07-29T06:38:52.751061Z",
     "shell.execute_reply": "2024-07-29T06:38:52.749669Z",
     "shell.execute_reply.started": "2024-07-29T06:38:50.785372Z"
    }
   },
   "outputs": [],
   "source": [
    "test_loss, test_acc = model.evaluate(test_images, test_labels, verbose=2)\n",
    "print(f'Test accuracy: {test_acc}')\n"
   ]
  },
  {
   "cell_type": "code",
   "execution_count": null,
   "metadata": {
    "execution": {
     "iopub.execute_input": "2024-07-29T06:38:56.265937Z",
     "iopub.status.busy": "2024-07-29T06:38:56.265533Z",
     "iopub.status.idle": "2024-07-29T06:38:56.515367Z",
     "shell.execute_reply": "2024-07-29T06:38:56.514110Z",
     "shell.execute_reply.started": "2024-07-29T06:38:56.265903Z"
    }
   },
   "outputs": [],
   "source": [
    "plt.plot(history.history['accuracy'], label='accuracy')\n",
    "plt.plot(history.history['val_accuracy'], label='val_accuracy')\n",
    "plt.xlabel('Epoch')\n",
    "plt.ylabel('Accuracy')\n",
    "plt.ylim([0, 1])\n",
    "plt.legend(loc='lower right')\n",
    "plt.show()\n"
   ]
  },
  {
   "cell_type": "markdown",
   "metadata": {},
   "source": [
    "**Fine-Tuning Pre-trained Models for Cat vs. Dog Classification**"
   ]
  },
  {
   "cell_type": "code",
   "execution_count": null,
   "metadata": {
    "execution": {
     "iopub.execute_input": "2024-07-29T06:40:00.353761Z",
     "iopub.status.busy": "2024-07-29T06:40:00.353282Z",
     "iopub.status.idle": "2024-07-29T06:40:00.359672Z",
     "shell.execute_reply": "2024-07-29T06:40:00.358270Z",
     "shell.execute_reply.started": "2024-07-29T06:40:00.353718Z"
    }
   },
   "outputs": [],
   "source": [
    "import tensorflow as tf\n",
    "from tensorflow.keras import layers, models, applications\n",
    "import matplotlib.pyplot as plt\n"
   ]
  },
  {
   "cell_type": "code",
   "execution_count": null,
   "metadata": {
    "execution": {
     "iopub.execute_input": "2024-07-29T06:45:14.379298Z",
     "iopub.status.busy": "2024-07-29T06:45:14.377023Z",
     "iopub.status.idle": "2024-07-29T06:45:29.906156Z",
     "shell.execute_reply": "2024-07-29T06:45:29.904977Z",
     "shell.execute_reply.started": "2024-07-29T06:45:14.379246Z"
    }
   },
   "outputs": [],
   "source": [
    "# Define paths to the train and validation datasets\n",
    "train_dir = '/kaggle/input/cat-and-dog/training_set'\n",
    "validation_dir = '/kaggle/input/cat-and-dog/test_set'\n",
    "\n",
    "# Load the Cats vs. Dogs dataset\n",
    "train_dataset = tf.keras.preprocessing.image_dataset_from_directory(\n",
    "    train_dir,\n",
    "    image_size=(150, 150),\n",
    "    batch_size=32,\n",
    "    subset='training',\n",
    "    validation_split=0.2,\n",
    "    seed=123\n",
    ")\n",
    "\n",
    "validation_dataset = tf.keras.preprocessing.image_dataset_from_directory(\n",
    "    validation_dir,\n",
    "    image_size=(150, 150),\n",
    "    batch_size=32,\n",
    "    subset='validation',\n",
    "    validation_split=0.2,\n",
    "    seed=123\n",
    ")\n",
    "\n",
    "# Define the class names\n",
    "class_names = train_dataset.class_names\n"
   ]
  },
  {
   "cell_type": "code",
   "execution_count": null,
   "metadata": {
    "execution": {
     "iopub.execute_input": "2024-07-29T06:48:01.140563Z",
     "iopub.status.busy": "2024-07-29T06:48:01.140152Z"
    }
   },
   "outputs": [],
   "source": [
    "plt.figure(figsize=(10, 10))\n",
    "for images, labels in train_dataset.take(1):\n",
    "    for i in range(9):\n",
    "        ax = plt.subplot(3, 3, i + 1)\n",
    "        plt.imshow(images[i].numpy().astype(\"uint8\"))\n",
    "        plt.title(class_names[labels[i]])\n",
    "        plt.axis(\"off\")\n",
    "plt.show()"
   ]
  },
  {
   "cell_type": "code",
   "execution_count": null,
   "metadata": {
    "execution": {
     "iopub.execute_input": "2024-07-29T06:47:51.930691Z",
     "iopub.status.busy": "2024-07-29T06:47:51.930251Z",
     "iopub.status.idle": "2024-07-29T06:47:55.524612Z",
     "shell.execute_reply": "2024-07-29T06:47:55.523445Z",
     "shell.execute_reply.started": "2024-07-29T06:47:51.930656Z"
    }
   },
   "outputs": [],
   "source": [
    "base_model = applications.VGG16(input_shape=(150, 150, 3),\n",
    "                                include_top=False,\n",
    "                                weights='imagenet')\n",
    "base_model.trainable = False\n",
    "\n",
    "model = models.Sequential([\n",
    "    base_model,\n",
    "    layers.Flatten(),\n",
    "    layers.Dense(256, activation='relu'),\n",
    "    layers.Dense(1, activation='sigmoid')\n",
    "])\n"
   ]
  },
  {
   "cell_type": "code",
   "execution_count": null,
   "metadata": {
    "execution": {
     "iopub.execute_input": "2024-07-29T06:49:21.205217Z",
     "iopub.status.busy": "2024-07-29T06:49:21.204773Z",
     "iopub.status.idle": "2024-07-29T06:49:21.215596Z",
     "shell.execute_reply": "2024-07-29T06:49:21.214611Z",
     "shell.execute_reply.started": "2024-07-29T06:49:21.205180Z"
    }
   },
   "outputs": [],
   "source": [
    "model.compile(optimizer='adam',\n",
    "              loss='binary_crossentropy',\n",
    "              metrics=['accuracy'])\n"
   ]
  },
  {
   "cell_type": "code",
   "execution_count": null,
   "metadata": {
    "execution": {
     "iopub.execute_input": "2024-07-29T06:49:25.773123Z",
     "iopub.status.busy": "2024-07-29T06:49:25.772699Z"
    }
   },
   "outputs": [],
   "source": [
    "history = model.fit(train_dataset,\n",
    "                    epochs=5,\n",
    "                    validation_data=validation_dataset)\n"
   ]
  },
  {
   "cell_type": "code",
   "execution_count": null,
   "metadata": {},
   "outputs": [],
   "source": [
    "base_model.trainable = True\n",
    "\n",
    "model.compile(optimizer=tf.keras.optimizers.Adam(1e-5),\n",
    "              loss='binary_crossentropy',\n",
    "              metrics=['accuracy'])\n",
    "\n",
    "history_fine = model.fit(train_dataset,\n",
    "                         epochs=5,\n",
    "                         validation_data=validation_dataset)\n"
   ]
  },
  {
   "cell_type": "code",
   "execution_count": null,
   "metadata": {},
   "outputs": [],
   "source": [
    "loss, accuracy = model.evaluate(validation_dataset)\n",
    "print(f'Validation accuracy: {accuracy}')\n"
   ]
  },
  {
   "cell_type": "code",
   "execution_count": null,
   "metadata": {},
   "outputs": [],
   "source": [
    "plt.plot(history.history['accuracy'], label='initial training accuracy')\n",
    "plt.plot(history.history['val_accuracy'], label='initial validation accuracy')\n",
    "if 'history_fine' in locals():\n",
    "    plt.plot(history_fine.history['accuracy'], label='fine-tuning accuracy')\n",
    "    plt.plot(history_fine.history['val_accuracy'], label='fine-tuning validation accuracy')\n",
    "plt.xlabel('Epoch')\n",
    "plt.ylabel('Accuracy')\n",
    "plt.ylim([0, 1])\n",
    "plt.legend(loc='lower right')\n",
    "plt.show()\n"
   ]
  }
 ],
 "metadata": {
  "kaggle": {
   "accelerator": "none",
   "dataSources": [
    {
     "datasetId": 23777,
     "sourceId": 30378,
     "sourceType": "datasetVersion"
    }
   ],
   "dockerImageVersionId": 30746,
   "isGpuEnabled": false,
   "isInternetEnabled": true,
   "language": "python",
   "sourceType": "notebook"
  },
  "kernelspec": {
   "display_name": "Python 3",
   "language": "python",
   "name": "python3"
  },
  "language_info": {
   "codemirror_mode": {
    "name": "ipython",
    "version": 3
   },
   "file_extension": ".py",
   "mimetype": "text/x-python",
   "name": "python",
   "nbconvert_exporter": "python",
   "pygments_lexer": "ipython3",
   "version": "3.7.1"
  }
 },
 "nbformat": 4,
 "nbformat_minor": 4
}
